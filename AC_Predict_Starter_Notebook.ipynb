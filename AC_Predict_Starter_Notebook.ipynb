{
 "cells": [
  {
   "cell_type": "markdown",
   "metadata": {},
   "source": [
    "# Advanced Classification Predict\n",
    "\n",
    "© Explore Data Science Academy"
   ]
  },
  {
   "cell_type": "markdown",
   "metadata": {},
   "source": [
    "## Honour Code\n",
    "\n",
    "I **YOUR NAME**, confirm - by submitting this document - that the solutions in this notebook are a result of my own work and that I abide by the EDSA honour code (https://drive.google.com/file/d/1QDCjGZJ8-FmJE3bZdIQNwnJyQKPhHZBn/view?usp=sharing).\n",
    "\n",
    "Non-compliance with the honour code constitutes a material breach of contract."
   ]
  },
  {
   "cell_type": "markdown",
   "metadata": {},
   "source": [
    "### Import Libraries and Read In the Data\n",
    "\n",
    "Do not modify or remove any of the code in these cells."
   ]
  },
  {
   "cell_type": "code",
   "execution_count": 485,
   "metadata": {},
   "outputs": [
    {
     "name": "stderr",
     "output_type": "stream",
     "text": [
      "[nltk_data] Downloading package wordnet to\n",
      "[nltk_data]     C:\\Users\\Mphop\\AppData\\Roaming\\nltk_data...\n",
      "[nltk_data]   Package wordnet is already up-to-date!\n",
      "[nltk_data] Downloading package stopwords to\n",
      "[nltk_data]     C:\\Users\\Mphop\\AppData\\Roaming\\nltk_data...\n",
      "[nltk_data]   Package stopwords is already up-to-date!\n"
     ]
    },
    {
     "data": {
      "text/plain": [
       "True"
      ]
     },
     "execution_count": 485,
     "metadata": {},
     "output_type": "execute_result"
    }
   ],
   "source": [
    "from IPython.display import Image\n",
    "from IPython.display import IFrame\n",
    "from IPython import display\n",
    "import pandas as pd\n",
    "import numpy as np\n",
    "\n",
    "import nltk\n",
    "import sklearn\n",
    "import imblearn\n",
    "import csv\n",
    "%matplotlib inline\n",
    "\n",
    "from nltk import TreebankWordTokenizer, SnowballStemmer\n",
    "from nltk.tokenize import TweetTokenizer\n",
    "from nltk.tokenize import  word_tokenize\n",
    "from nltk.stem import WordNetLemmatizer\n",
    "from nltk.corpus import stopwords\n",
    "\n",
    "from imblearn.metrics import classification_report_imbalanced\n",
    "from sklearn.preprocessing import StandardScaler\n",
    "from sklearn.preprocessing import LabelBinarizer\n",
    "from sklearn.linear_model import LogisticRegression\n",
    "from sklearn.ensemble import RandomForestClassifier\n",
    "from sklearn.model_selection import train_test_split\n",
    "\n",
    "from sklearn.feature_extraction.text import TfidfVectorizer\n",
    "from sklearn.feature_selection import VarianceThreshold\n",
    "from sklearn.pipeline import Pipeline\n",
    "from sklearn.svm import SVC\n",
    "from sklearn.model_selection import GridSearchCV\n",
    "from sklearn.svm import LinearSVC\n",
    "from sklearn.neighbors import KNeighborsClassifier\n",
    "from sklearn.naive_bayes import GaussianNB\n",
    "from sklearn.naive_bayes import MultinomialNB\n",
    "\n",
    "from sklearn import metrics\n",
    "from sklearn.metrics import accuracy_score\n",
    "from sklearn.metrics import roc_auc_score\n",
    "from sklearn.metrics import recall_score\n",
    "from sklearn.metrics import precision_score\n",
    "from sklearn.metrics import f1_score\n",
    "from sklearn.metrics import confusion_matrix\n",
    "\n",
    "import string\n",
    "import urllib\n",
    "import math\n",
    "import re\n",
    "\n",
    "nltk.download('wordnet')\n",
    "nltk.download('stopwords')"
   ]
  },
  {
   "cell_type": "code",
   "execution_count": 486,
   "metadata": {},
   "outputs": [
    {
     "data": {
      "text/html": [
       "<div>\n",
       "<style scoped>\n",
       "    .dataframe tbody tr th:only-of-type {\n",
       "        vertical-align: middle;\n",
       "    }\n",
       "\n",
       "    .dataframe tbody tr th {\n",
       "        vertical-align: top;\n",
       "    }\n",
       "\n",
       "    .dataframe thead th {\n",
       "        text-align: right;\n",
       "    }\n",
       "</style>\n",
       "<table border=\"1\" class=\"dataframe\">\n",
       "  <thead>\n",
       "    <tr style=\"text-align: right;\">\n",
       "      <th></th>\n",
       "      <th>sentiment</th>\n",
       "      <th>message</th>\n",
       "      <th>tweetid</th>\n",
       "    </tr>\n",
       "  </thead>\n",
       "  <tbody>\n",
       "    <tr>\n",
       "      <th>0</th>\n",
       "      <td>1</td>\n",
       "      <td>PolySciMajor EPA chief doesn't think carbon di...</td>\n",
       "      <td>625221</td>\n",
       "    </tr>\n",
       "    <tr>\n",
       "      <th>1</th>\n",
       "      <td>1</td>\n",
       "      <td>It's not like we lack evidence of anthropogeni...</td>\n",
       "      <td>126103</td>\n",
       "    </tr>\n",
       "    <tr>\n",
       "      <th>2</th>\n",
       "      <td>2</td>\n",
       "      <td>RT @RawStory: Researchers say we have three ye...</td>\n",
       "      <td>698562</td>\n",
       "    </tr>\n",
       "    <tr>\n",
       "      <th>3</th>\n",
       "      <td>1</td>\n",
       "      <td>#TodayinMaker# WIRED : 2016 was a pivotal year...</td>\n",
       "      <td>573736</td>\n",
       "    </tr>\n",
       "    <tr>\n",
       "      <th>4</th>\n",
       "      <td>1</td>\n",
       "      <td>RT @SoyNovioDeTodas: It's 2016, and a racist, ...</td>\n",
       "      <td>466954</td>\n",
       "    </tr>\n",
       "  </tbody>\n",
       "</table>\n",
       "</div>"
      ],
      "text/plain": [
       "   sentiment                                            message  tweetid\n",
       "0          1  PolySciMajor EPA chief doesn't think carbon di...   625221\n",
       "1          1  It's not like we lack evidence of anthropogeni...   126103\n",
       "2          2  RT @RawStory: Researchers say we have three ye...   698562\n",
       "3          1  #TodayinMaker# WIRED : 2016 was a pivotal year...   573736\n",
       "4          1  RT @SoyNovioDeTodas: It's 2016, and a racist, ...   466954"
      ]
     },
     "execution_count": 486,
     "metadata": {},
     "output_type": "execute_result"
    }
   ],
   "source": [
    "train  = pd.read_csv('train.csv')\n",
    "test = pd.read_csv('test.csv') # no labels\n",
    "\n",
    "train.head()"
   ]
  },
  {
   "cell_type": "code",
   "execution_count": 487,
   "metadata": {},
   "outputs": [
    {
     "data": {
      "text/html": [
       "<div>\n",
       "<style scoped>\n",
       "    .dataframe tbody tr th:only-of-type {\n",
       "        vertical-align: middle;\n",
       "    }\n",
       "\n",
       "    .dataframe tbody tr th {\n",
       "        vertical-align: top;\n",
       "    }\n",
       "\n",
       "    .dataframe thead th {\n",
       "        text-align: right;\n",
       "    }\n",
       "</style>\n",
       "<table border=\"1\" class=\"dataframe\">\n",
       "  <thead>\n",
       "    <tr style=\"text-align: right;\">\n",
       "      <th></th>\n",
       "      <th>message</th>\n",
       "      <th>tweetid</th>\n",
       "    </tr>\n",
       "  </thead>\n",
       "  <tbody>\n",
       "    <tr>\n",
       "      <th>0</th>\n",
       "      <td>Europe will now be looking to China to make su...</td>\n",
       "      <td>169760</td>\n",
       "    </tr>\n",
       "    <tr>\n",
       "      <th>1</th>\n",
       "      <td>Combine this with the polling of staffers re c...</td>\n",
       "      <td>35326</td>\n",
       "    </tr>\n",
       "    <tr>\n",
       "      <th>2</th>\n",
       "      <td>The scary, unimpeachable evidence that climate...</td>\n",
       "      <td>224985</td>\n",
       "    </tr>\n",
       "    <tr>\n",
       "      <th>3</th>\n",
       "      <td>@Karoli @morgfair @OsborneInk @dailykos \\nPuti...</td>\n",
       "      <td>476263</td>\n",
       "    </tr>\n",
       "    <tr>\n",
       "      <th>4</th>\n",
       "      <td>RT @FakeWillMoore: 'Female orgasms cause globa...</td>\n",
       "      <td>872928</td>\n",
       "    </tr>\n",
       "  </tbody>\n",
       "</table>\n",
       "</div>"
      ],
      "text/plain": [
       "                                             message  tweetid\n",
       "0  Europe will now be looking to China to make su...   169760\n",
       "1  Combine this with the polling of staffers re c...    35326\n",
       "2  The scary, unimpeachable evidence that climate...   224985\n",
       "3  @Karoli @morgfair @OsborneInk @dailykos \\nPuti...   476263\n",
       "4  RT @FakeWillMoore: 'Female orgasms cause globa...   872928"
      ]
     },
     "execution_count": 487,
     "metadata": {},
     "output_type": "execute_result"
    }
   ],
   "source": [
    "test.head()"
   ]
  },
  {
   "cell_type": "markdown",
   "metadata": {},
   "source": [
    "## Overview\n",
    "\n",
    "Refer to this diagram to guide you while you build your model. Some of the steps will be fleshed out in this template."
   ]
  },
  {
   "cell_type": "markdown",
   "metadata": {},
   "source": [
    "![Overview](process_overview_final.jpg)"
   ]
  },
  {
   "cell_type": "markdown",
   "metadata": {},
   "source": [
    "## Basic preprocessing\n",
    "\n",
    "Here is a template you may use for your initial base model. \n",
    "\n",
    "### Removing URL's\n",
    "Write a function that removes URL's from a single tweet. \n",
    "\n",
    "**Function input:**\n",
    "- A single string object (tweet) \n",
    "\n",
    "**Function output:**\n",
    "- The tweet with URL's removed as a single object"
   ]
  },
  {
   "cell_type": "code",
   "execution_count": 488,
   "metadata": {},
   "outputs": [],
   "source": [
    "# define function that removes URL from single tweet\n",
    "def remove_urls(text):\n",
    "    # YOUR CODE HERE \n",
    "    return re.sub(r'https?:\\/\\/.*\\/w*\\S+','',text)"
   ]
  },
  {
   "cell_type": "markdown",
   "metadata": {},
   "source": [
    "**Original object:**"
   ]
  },
  {
   "cell_type": "code",
   "execution_count": 489,
   "metadata": {},
   "outputs": [
    {
     "data": {
      "text/plain": [
       "'RT @RawStory: Researchers say we have three years to act on climate change before it’s too late https://t.co/WdT0KdUr2f https://t.co/Z0ANPT…'"
      ]
     },
     "execution_count": 489,
     "metadata": {},
     "output_type": "execute_result"
    }
   ],
   "source": [
    "tweet = train['message'][2]\n",
    "tweet"
   ]
  },
  {
   "cell_type": "code",
   "execution_count": 490,
   "metadata": {},
   "outputs": [
    {
     "data": {
      "text/plain": [
       "'RT @RawStory: Researchers say we have three years to act on climate change before it’s too late '"
      ]
     },
     "execution_count": 490,
     "metadata": {},
     "output_type": "execute_result"
    }
   ],
   "source": [
    "remove_urls(tweet)"
   ]
  },
  {
   "cell_type": "markdown",
   "metadata": {},
   "source": [
    "**Expected output:**\n",
    "```python\n",
    "remove_urls(tweet)\n",
    "\n",
    ">>'RT @RawStory: Researchers say we have three years to act on climate change before it’s too late  '\n",
    "```"
   ]
  },
  {
   "cell_type": "markdown",
   "metadata": {},
   "source": [
    "### Convert to lowercase\n",
    "\n",
    "Write a function that converts a single tweet to lowercase.\n",
    "\n",
    "**Function input:**\n",
    "- A single string object (tweet) \n",
    "\n",
    "**Function output:**\n",
    "- The tweet in lowercase as a single object"
   ]
  },
  {
   "cell_type": "code",
   "execution_count": 491,
   "metadata": {},
   "outputs": [],
   "source": [
    "def to_lower(text):\n",
    "    # YOUR CODE HERE \n",
    "    return text.lower()"
   ]
  },
  {
   "cell_type": "markdown",
   "metadata": {},
   "source": [
    "**Original object:**"
   ]
  },
  {
   "cell_type": "code",
   "execution_count": 492,
   "metadata": {},
   "outputs": [
    {
     "data": {
      "text/plain": [
       "'RT @RawStory: Researchers say we have three years to act on climate change before it’s too late https://t.co/WdT0KdUr2f https://t.co/Z0ANPT…'"
      ]
     },
     "execution_count": 492,
     "metadata": {},
     "output_type": "execute_result"
    }
   ],
   "source": [
    "tweet"
   ]
  },
  {
   "cell_type": "code",
   "execution_count": 493,
   "metadata": {},
   "outputs": [
    {
     "data": {
      "text/plain": [
       "'rt @rawstory: researchers say we have three years to act on climate change before it’s too late https://t.co/wdt0kdur2f https://t.co/z0anpt…'"
      ]
     },
     "execution_count": 493,
     "metadata": {},
     "output_type": "execute_result"
    }
   ],
   "source": [
    "to_lower(tweet)"
   ]
  },
  {
   "cell_type": "markdown",
   "metadata": {},
   "source": [
    "**Expected output:**\n",
    "\n",
    "```python \n",
    "to_lower(tweet)\n",
    ">> 'rt @rawstory: researchers say we have three years to act on climate change before it’s too late https://t.co/wdt0kdur2f https://t.co/z0anpt…'\n",
    "```\n",
    "\n",
    "### Stemming or lemmatising\n",
    "\n",
    "Write a function that derives the root words for each of the words in a tweet. You may use stemming _or_ lemmatising here.\n",
    "\n",
    "**Function input:**\n",
    "- A single string object (tweet) \n",
    "\n",
    "**Function output:**\n",
    "- The tweet in root words as a _single_ object"
   ]
  },
  {
   "cell_type": "code",
   "execution_count": 494,
   "metadata": {},
   "outputs": [],
   "source": [
    "def get_roots(text):\n",
    "    # YOUR CODE HERE \n",
    "    lemmatizer = WordNetLemmatizer()\n",
    "    \n",
    "    return lemmatizer.lemmatize(text)"
   ]
  },
  {
   "cell_type": "markdown",
   "metadata": {},
   "source": [
    "**Original object:**"
   ]
  },
  {
   "cell_type": "code",
   "execution_count": 495,
   "metadata": {},
   "outputs": [
    {
     "data": {
      "text/plain": [
       "'RT @RawStory: Researchers say we have three years to act on climate change before it’s too late https://t.co/WdT0KdUr2f https://t.co/Z0ANPT…'"
      ]
     },
     "execution_count": 495,
     "metadata": {},
     "output_type": "execute_result"
    }
   ],
   "source": [
    "tweet"
   ]
  },
  {
   "cell_type": "code",
   "execution_count": 496,
   "metadata": {},
   "outputs": [
    {
     "data": {
      "text/plain": [
       "'RT @RawStory: Researchers say we have three years to act on climate change before it’s too late https://t.co/WdT0KdUr2f https://t.co/Z0ANPT…'"
      ]
     },
     "execution_count": 496,
     "metadata": {},
     "output_type": "execute_result"
    }
   ],
   "source": [
    "get_roots(tweet)"
   ]
  },
  {
   "cell_type": "markdown",
   "metadata": {},
   "source": [
    "**Expected output:**\n",
    "```python\n",
    "get_roots(tweet)\n",
    "```\n",
    "Using `SnowballStemmer()`\n",
    "```python\n",
    ">> 'rt @rawstory: research say we have three year to act on climat chang befor it too late https://t.co/wdt0kdur2f https://t.co/z0anpt…'\n",
    "```\n",
    "\n",
    "Using `WordNetLemmatizer()`\n",
    "```python\n",
    ">> 'RT @RawStory: Researchers say we have three years to act on climate change before it’s too late https://t.co/WdT0KdUr2f https://t.co/Z0ANPT…'\n",
    "```"
   ]
  },
  {
   "cell_type": "markdown",
   "metadata": {},
   "source": [
    "### Other preprocessing techniques \n",
    "\n",
    "Come back here once you have submitted your base model to add any other preprocessing functions yuo wish to add"
   ]
  },
  {
   "cell_type": "code",
   "execution_count": 506,
   "metadata": {},
   "outputs": [
    {
     "data": {
      "text/plain": [
       "0    [ europe ,  will ,  now ,  be ,  looking ,  to...\n",
       "1    [ combine ,  this ,  with ,  the ,  polling , ...\n",
       "2    [ the ,  scary ,  , ,  unimpeachable ,  eviden...\n",
       "3    [ ,  karoli ,  ,  morgfair ,  ,  osborneink , ...\n",
       "4    [ rt ,  ,  fakewillmoore ,  , \" female\",  orga...\n",
       "Name: message, dtype: object"
      ]
     },
     "execution_count": 506,
     "metadata": {},
     "output_type": "execute_result"
    }
   ],
   "source": [
    "# YOUR CODE HERE\n",
    "\n",
    "test['message'] = test['message'].apply(get_roots).apply(to_lower).apply(remove_urls).apply(get_tokens)\n",
    "test['message'] = test['message'].apply(data_cleaning)\n",
    "test['message'].head()\n",
    "\n"
   ]
  },
  {
   "cell_type": "markdown",
   "metadata": {},
   "source": [
    "### Tokenising \n",
    "\n",
    "Write a function that tokenises a single tweet into a list of tokens.\n",
    "\n",
    "**Function input:**\n",
    "- A single string object (tweet) \n",
    "\n",
    "**Function output:**\n",
    "- A list of tokens (objects)."
   ]
  },
  {
   "cell_type": "code",
   "execution_count": 497,
   "metadata": {},
   "outputs": [],
   "source": [
    "def get_tokens(text):\n",
    "    # YOUR CODE HERE \n",
    "    tokenize = TreebankWordTokenizer()\n",
    "    return tokenize.tokenize(text)"
   ]
  },
  {
   "cell_type": "markdown",
   "metadata": {},
   "source": [
    "**Original object:**"
   ]
  },
  {
   "cell_type": "code",
   "execution_count": 498,
   "metadata": {},
   "outputs": [
    {
     "data": {
      "text/plain": [
       "'RT @RawStory: Researchers say we have three years to act on climate change before it’s too late https://t.co/WdT0KdUr2f https://t.co/Z0ANPT…'"
      ]
     },
     "execution_count": 498,
     "metadata": {},
     "output_type": "execute_result"
    }
   ],
   "source": [
    "tweet"
   ]
  },
  {
   "cell_type": "code",
   "execution_count": 499,
   "metadata": {},
   "outputs": [
    {
     "data": {
      "text/plain": [
       "['RT',\n",
       " '@',\n",
       " 'RawStory',\n",
       " ':',\n",
       " 'Researchers',\n",
       " 'say',\n",
       " 'we',\n",
       " 'have',\n",
       " 'three',\n",
       " 'years',\n",
       " 'to',\n",
       " 'act',\n",
       " 'on',\n",
       " 'climate',\n",
       " 'change',\n",
       " 'before',\n",
       " 'it’s',\n",
       " 'too',\n",
       " 'late',\n",
       " 'https',\n",
       " ':',\n",
       " '//t.co/WdT0KdUr2f',\n",
       " 'https',\n",
       " ':',\n",
       " '//t.co/Z0ANPT…']"
      ]
     },
     "execution_count": 499,
     "metadata": {},
     "output_type": "execute_result"
    }
   ],
   "source": [
    "get_tokens(tweet)"
   ]
  },
  {
   "cell_type": "markdown",
   "metadata": {},
   "source": [
    "**Expected output:**\n",
    "```python\n",
    "get_tokens(tweet)\n",
    "\n",
    ">> ['RT',\n",
    " '@',\n",
    " 'RawStory',\n",
    " ':',\n",
    " 'Researchers',\n",
    " 'say',\n",
    " 'we',\n",
    " 'have',\n",
    " 'three',\n",
    " 'years',\n",
    " 'to',\n",
    " 'act',\n",
    " 'on',\n",
    " 'climate',\n",
    " 'change',\n",
    " 'before',\n",
    " 'it’s',\n",
    " 'too',\n",
    " 'late',\n",
    " 'https',\n",
    " ':',\n",
    " '//t.co/WdT0KdUr2f',\n",
    " 'https',\n",
    " ':',\n",
    " '//t.co/Z0ANPT…']\n",
    "```"
   ]
  },
  {
   "cell_type": "markdown",
   "metadata": {},
   "source": [
    "Besides the preprocessing methods we've already discussed, can you think of how our data can be improved at this stage?"
   ]
  },
  {
   "cell_type": "markdown",
   "metadata": {},
   "source": [
    "### Vectorising \n",
    "\n",
    "Use the code from the webinar to define your vecotiser. For more details on this function have a look at the `sklearn`\n",
    "<a href=\"https://scikit-learn.org/stable/modules/generated/sklearn.feature_extraction.text.TfidfVectorizer.html\">package documentation on the function</a>. Recall that this function, unlike the others before takes an _**entire column**_ as an argument.\n",
    "\n",
    "### Putting all the functions together \n",
    "\n",
    "Test your cleaning functions on a single tweet. Perform the cleaning procedure on this tweet from start to finish. Make sure the output looks as you would expect. Store the cleaned tweet in `tweet_final`. Don't worry about vectorising for now.\n",
    "\n",
    "**_Include any other cleaning procedures you add after your base model_**\n",
    "\n",
    "**Original object:**"
   ]
  },
  {
   "cell_type": "code",
   "execution_count": 500,
   "metadata": {},
   "outputs": [
    {
     "data": {
      "text/plain": [
       "'RT @RawStory: Researchers say we have three years to act on climate change before it’s too late https://t.co/WdT0KdUr2f https://t.co/Z0ANPT…'"
      ]
     },
     "execution_count": 500,
     "metadata": {},
     "output_type": "execute_result"
    }
   ],
   "source": [
    "tweet"
   ]
  },
  {
   "cell_type": "code",
   "execution_count": 501,
   "metadata": {},
   "outputs": [
    {
     "data": {
      "text/plain": [
       "['rt',\n",
       " '@',\n",
       " 'rawstory',\n",
       " ':',\n",
       " 'researchers',\n",
       " 'say',\n",
       " 'we',\n",
       " 'have',\n",
       " 'three',\n",
       " 'years',\n",
       " 'to',\n",
       " 'act',\n",
       " 'on',\n",
       " 'climate',\n",
       " 'change',\n",
       " 'before',\n",
       " 'it’s',\n",
       " 'too',\n",
       " 'late']"
      ]
     },
     "execution_count": 501,
     "metadata": {},
     "output_type": "execute_result"
    }
   ],
   "source": [
    "# clean tweet from start to finish\n",
    "tweet1 = remove_urls(tweet)\n",
    "tweet2 = to_lower(tweet)\n",
    "tweet3 = get_roots(tweet)\n",
    "tweet4 = get_tokens(tweet)\n",
    "tweet_final = get_tokens(remove_urls(to_lower(get_roots(tweet))))\n",
    "# cleaned tweet\n",
    "tweet_final"
   ]
  },
  {
   "cell_type": "markdown",
   "metadata": {},
   "source": [
    "**Expected output:**\n",
    "```python\n",
    "tweet_final\n",
    ">>['rt',\n",
    " '@',\n",
    " 'rawstory',\n",
    " ':',\n",
    " 'research',\n",
    " 'say',\n",
    " 'we',\n",
    " 'have',\n",
    " 'three',\n",
    " 'year',\n",
    " 'to',\n",
    " 'act',\n",
    " 'on',\n",
    " 'climat',\n",
    " 'chang',\n",
    " 'befor',\n",
    " 'it',\n",
    " 'too',\n",
    " 'late']\n",
    "```"
   ]
  },
  {
   "cell_type": "markdown",
   "metadata": {},
   "source": [
    "### Preprocessing and cleaning entire column of tweets\n",
    "\n",
    "Now that we know how to clean a single tweet, we can use `apply()` to clean the entire column in the dataframe. This is what the column looks like to begin with."
   ]
  },
  {
   "cell_type": "code",
   "execution_count": 502,
   "metadata": {},
   "outputs": [
    {
     "data": {
      "text/plain": [
       "0    PolySciMajor EPA chief doesn't think carbon di...\n",
       "1    It's not like we lack evidence of anthropogeni...\n",
       "2    RT @RawStory: Researchers say we have three ye...\n",
       "3    #TodayinMaker# WIRED : 2016 was a pivotal year...\n",
       "4    RT @SoyNovioDeTodas: It's 2016, and a racist, ...\n",
       "Name: message, dtype: object"
      ]
     },
     "execution_count": 502,
     "metadata": {},
     "output_type": "execute_result"
    }
   ],
   "source": [
    "train['message'].head()"
   ]
  },
  {
   "cell_type": "markdown",
   "metadata": {},
   "source": [
    "Write code that applies your cleaning functions to the entire `message` column of the dataframe using `.apply()`. Do not vectorise just yet. Store this in a new column, `train['message_clean']`. "
   ]
  },
  {
   "cell_type": "code",
   "execution_count": 503,
   "metadata": {},
   "outputs": [
    {
     "data": {
      "text/plain": [
       "0    [polyscimajor, epa, chief, does, n't, think, c...\n",
       "1    [it, 's, not, like, we, lack, evidence, of, an...\n",
       "2    [rt, @, rawstory, :, researchers, say, we, hav...\n",
       "3    [#, todayinmaker, #, wired, :, 2016, was, a, p...\n",
       "4    [rt, @, soynoviodetodas, :, it, 's, 2016, ,, a...\n",
       "Name: message, dtype: object"
      ]
     },
     "execution_count": 503,
     "metadata": {},
     "output_type": "execute_result"
    }
   ],
   "source": [
    "# applying cleaning functions to entire column of dataframe (NO VECTORISING)\n",
    "\n",
    "# YOUR CODE HERE - use apply with all your cleaning functions \n",
    "\n",
    "train['message'] = train['message'].apply(get_roots).apply(to_lower).apply(remove_urls).apply(get_tokens)\n",
    "\n",
    "train['message'].head()"
   ]
  },
  {
   "cell_type": "markdown",
   "metadata": {},
   "source": [
    "**Expected output:**\n",
    "\n",
    "```python\n",
    "train['message_clean'].head()\n",
    "\n",
    ">>  0    [polyscimajor, epa, chief, does, n't, think, c...\n",
    "    1    [it, not, like, we, lack, evid, of, anthropoge...\n",
    "    2    [rt, @, rawstory, :, research, say, we, have, ...\n",
    "    3    [#, todayinmaker, #, wire, :, 2016, was, a, pi...\n",
    "    4    [rt, @, soynoviodetodas, :, it, 2016, ,, and, ...\n",
    "Name: message_clean, dtype: object\n",
    "```"
   ]
  },
  {
   "cell_type": "code",
   "execution_count": 504,
   "metadata": {},
   "outputs": [],
   "source": [
    "# Further data cleaning\n",
    "def data_cleaning(text):\n",
    "    text = re.sub(r'#\\w*', '',str(text))\n",
    "    text = re.sub(r'\\d+', '',str(text))\n",
    "    text = re.sub(r'\\s\\s+', ' ',str(text))\n",
    "    text = re.sub(r'@[\\w]*', '',str(text))\n",
    "    text = re.sub(r\"[.;'\"\"'':@#?!\\&/$]+\\ *\", ' ',str(text))\n",
    "    text = text.lstrip(' ')\n",
    "    \n",
    "    return text\n"
   ]
  },
  {
   "cell_type": "code",
   "execution_count": 505,
   "metadata": {},
   "outputs": [
    {
     "data": {
      "text/html": [
       "<div>\n",
       "<style scoped>\n",
       "    .dataframe tbody tr th:only-of-type {\n",
       "        vertical-align: middle;\n",
       "    }\n",
       "\n",
       "    .dataframe tbody tr th {\n",
       "        vertical-align: top;\n",
       "    }\n",
       "\n",
       "    .dataframe thead th {\n",
       "        text-align: right;\n",
       "    }\n",
       "</style>\n",
       "<table border=\"1\" class=\"dataframe\">\n",
       "  <thead>\n",
       "    <tr style=\"text-align: right;\">\n",
       "      <th></th>\n",
       "      <th>sentiment</th>\n",
       "      <th>message</th>\n",
       "      <th>tweetid</th>\n",
       "    </tr>\n",
       "  </thead>\n",
       "  <tbody>\n",
       "    <tr>\n",
       "      <th>0</th>\n",
       "      <td>1</td>\n",
       "      <td>[ polyscimajor ,  epa ,  chief ,  does , \"n t\"...</td>\n",
       "      <td>625221</td>\n",
       "    </tr>\n",
       "    <tr>\n",
       "      <th>1</th>\n",
       "      <td>1</td>\n",
       "      <td>[ it , \" s\",  not ,  like ,  we ,  lack ,  evi...</td>\n",
       "      <td>126103</td>\n",
       "    </tr>\n",
       "    <tr>\n",
       "      <th>2</th>\n",
       "      <td>2</td>\n",
       "      <td>[ rt ,  ,  rawstory ,  ,  researchers ,  say ,...</td>\n",
       "      <td>698562</td>\n",
       "    </tr>\n",
       "    <tr>\n",
       "      <th>3</th>\n",
       "      <td>1</td>\n",
       "      <td>[ ,  todayinmaker ,  ,  wired ,  ,  ,  was ,  ...</td>\n",
       "      <td>573736</td>\n",
       "    </tr>\n",
       "    <tr>\n",
       "      <th>4</th>\n",
       "      <td>1</td>\n",
       "      <td>[ rt ,  ,  soynoviodetodas ,  ,  it , \" s\",  ,...</td>\n",
       "      <td>466954</td>\n",
       "    </tr>\n",
       "  </tbody>\n",
       "</table>\n",
       "</div>"
      ],
      "text/plain": [
       "   sentiment                                            message  tweetid\n",
       "0          1  [ polyscimajor ,  epa ,  chief ,  does , \"n t\"...   625221\n",
       "1          1  [ it , \" s\",  not ,  like ,  we ,  lack ,  evi...   126103\n",
       "2          2  [ rt ,  ,  rawstory ,  ,  researchers ,  say ,...   698562\n",
       "3          1  [ ,  todayinmaker ,  ,  wired ,  ,  ,  was ,  ...   573736\n",
       "4          1  [ rt ,  ,  soynoviodetodas ,  ,  it , \" s\",  ,...   466954"
      ]
     },
     "execution_count": 505,
     "metadata": {},
     "output_type": "execute_result"
    }
   ],
   "source": [
    "train['message'] = train['message'].apply(data_cleaning)\n",
    "\n",
    "train.head()"
   ]
  },
  {
   "cell_type": "markdown",
   "metadata": {},
   "source": [
    "### Vectorising \n",
    "\n",
    "Vectorise your cleaned data using the vectoriser you defined earlier. Don't forget to fit the vectoriser to the data you just cleaned. Store your vectorised data in `train_vec`."
   ]
  },
  {
   "cell_type": "code",
   "execution_count": 507,
   "metadata": {},
   "outputs": [],
   "source": [
    "# splitting data\n",
    "X = train['message'].astype(str)\n",
    "y = train['sentiment']\n",
    "\n",
    "X_train, X_test, y_train, y_test = train_test_split(X,y,test_size = 0.25, random_state = 42)\n",
    "\n",
    "\n",
    "# YOUR CODE HERE "
   ]
  },
  {
   "cell_type": "markdown",
   "metadata": {},
   "source": [
    "## Fitting a simple model on training data and evaluate its performance\n",
    "\n",
    "Fit a model on your cleaned data. Use `train_vec` as your features. Note that you need to convert `train_vec` to an array. \n",
    "\n",
    "You are familiar with this process, so there is less guidance here. You may also refer to train notebooks and the webinar pdf as guidance.\n",
    "\n",
    "Your basic model should be a logistic regression, however if you try different models you will also perform the following procedure.\n",
    "\n",
    "1. Split the training data into features and labels.\n",
    "2. Split the training data further into training and validation data.\n",
    "3. Fit the model on the training subset. \n",
    "4. Predict on the validation subset.\n",
    "5. Calculate the performance metrics on the validation predictions.\n",
    "6. Select a model based on validation performance (when you have more than one model).\n",
    "8. Clean the test data.\n",
    "9. Predict on the cleaned test data.\n",
    "7. Write a csv that matches `sample_submission.csv`.\n",
    "8. Submit to Kaggle."
   ]
  },
  {
   "cell_type": "code",
   "execution_count": 509,
   "metadata": {},
   "outputs": [
    {
     "name": "stderr",
     "output_type": "stream",
     "text": [
      "C:\\Users\\Mphop\\anaconda3\\lib\\site-packages\\sklearn\\svm\\_base.py:284: ConvergenceWarning: Solver terminated early (max_iter=5000).  Consider pre-processing your data with StandardScaler or MinMaxScaler.\n",
      "  warnings.warn(\n"
     ]
    }
   ],
   "source": [
    "# vectorising and Model training \n",
    "# LogisticRegression\n",
    "\n",
    "lr = Pipeline([('tfidf',TfidfVectorizer()), ('clf',LogisticRegression(C= 1, class_weight = 'balanced', max_iter = 5000))])\n",
    "lr.fit(X_train, y_train)\n",
    "y_pred_lr = lr.predict(X_test)\n",
    "\n",
    "RandomForestClassifier\n",
    "\n",
    "model_rf = Pipeline([('tfidf',TfidfVectorizer()), ('clf', RandomForestClassifier(max_depth = 100, n_estimators = 120))])\n",
    "model_rf.fit(X_train, y_train)\n",
    "y_pred_model_rf = model_rf.predict(X_test)\n",
    "\n",
    "#Support Vector Mechines\n",
    "\n",
    "model_svc = Pipeline([('tfidf',TfidfVectorizer(max_df = 0.8,min_df = 2,ngram_range=(1,2))), ('svc',SVC(class_weight = 'balanced', max_iter = 5000))])\n",
    "model_svc.fit(X_train, y_train)\n",
    "y_pred_model_svc = model_svc.predict(X_test)\n",
    "\n",
    "# KNN Classifier\n",
    "model_knn = Pipeline([('tfidf',TfidfVectorizer()),('clf',KNeighborsClassifier(n_neighbors = 5, metric = 'minkowski',p=2))])\n",
    "model_knn.fit(X_train,y_train)\n",
    "y_pred_model_knn = model_knn.predict(X_test)\n",
    "\n",
    "#Naive Bayes\n",
    "model_nb = Pipeline([('tfidf', TfidfVectorizer()),('clf',MultinomialNB())])\n",
    "model_nb.fit(X_train,y_train)\n",
    "y_pred_model_nb = model_nb.predict(X_test)"
   ]
  },
  {
   "cell_type": "code",
   "execution_count": 510,
   "metadata": {},
   "outputs": [
    {
     "name": "stdout",
     "output_type": "stream",
     "text": [
      "LogisticRegression:\n",
      "               precision    recall  f1-score   support\n",
      "\n",
      "          -1       0.53      0.66      0.59       336\n",
      "           0       0.47      0.55      0.50       547\n",
      "           1       0.86      0.70      0.78      2178\n",
      "           2       0.68      0.85      0.75       894\n",
      "\n",
      "    accuracy                           0.71      3955\n",
      "   macro avg       0.64      0.69      0.66      3955\n",
      "weighted avg       0.74      0.71      0.72      3955\n",
      "\n",
      "RandomForestClassifier:\n",
      "               precision    recall  f1-score   support\n",
      "\n",
      "          -1       0.96      0.15      0.25       336\n",
      "           0       0.71      0.23      0.35       547\n",
      "           1       0.69      0.92      0.79      2178\n",
      "           2       0.76      0.71      0.74       894\n",
      "\n",
      "    accuracy                           0.71      3955\n",
      "   macro avg       0.78      0.50      0.53      3955\n",
      "weighted avg       0.73      0.71      0.67      3955\n",
      "\n",
      "SVC model:\n",
      "               precision    recall  f1-score   support\n",
      "\n",
      "          -1       0.80      0.44      0.57       336\n",
      "           0       0.52      0.53      0.52       547\n",
      "           1       0.82      0.82      0.82      2178\n",
      "           2       0.73      0.84      0.78       894\n",
      "\n",
      "    accuracy                           0.75      3955\n",
      "   macro avg       0.72      0.66      0.67      3955\n",
      "weighted avg       0.75      0.75      0.75      3955\n",
      "\n",
      "KNN Classifier:\n",
      "               precision    recall  f1-score   support\n",
      "\n",
      "          -1       0.92      0.07      0.13       336\n",
      "           0       0.98      0.08      0.15       547\n",
      "           1       0.96      0.16      0.28      2178\n",
      "           2       0.25      0.99      0.40       894\n",
      "\n",
      "    accuracy                           0.33      3955\n",
      "   macro avg       0.78      0.33      0.24      3955\n",
      "weighted avg       0.80      0.33      0.28      3955\n",
      "\n",
      "Naive Bayes:\n",
      "               precision    recall  f1-score   support\n",
      "\n",
      "          -1       0.92      0.07      0.13       336\n",
      "           0       0.98      0.08      0.15       547\n",
      "           1       0.96      0.16      0.28      2178\n",
      "           2       0.25      0.99      0.40       894\n",
      "\n",
      "    accuracy                           0.33      3955\n",
      "   macro avg       0.78      0.33      0.24      3955\n",
      "weighted avg       0.80      0.33      0.28      3955\n",
      "\n"
     ]
    }
   ],
   "source": [
    "# model evaluation\n",
    "print('LogisticRegression:\\n',metrics.classification_report(y_test,y_pred_lr))\n",
    "print('RandomForestClassifier:\\n',metrics.classification_report(y_test,y_pred_model_rf))\n",
    "print('SVC model:\\n',metrics.classification_report(y_test,y_pred_model_svc))\n",
    "print('KNN Classifier:\\n',metrics.classification_report(y_test,y_pred_model_knn))\n",
    "print('Naive Bayes:\\n',metrics.classification_report(y_test,y_pred_model_knn))\n"
   ]
  },
  {
   "cell_type": "markdown",
   "metadata": {},
   "source": [
    "## Suggestions on how to improve the model - Extras \n",
    "\n",
    "Here are some ideas on how you can improve your model. Try some of them out once you have submitted your base model to Kaggle. Only use the methods you find improve your model performance.\n",
    "\n",
    " - Additional preprocessing \n",
    "     - Use some of the methods in the notebooks to balance the data\n",
    "     - Replace links with the text `Link` to show the machine that there is a link present without the extraneous detail of the link text\n",
    "     - Remove punctuation\n",
    "     - Correct spelling\n",
    "     - Bag of words vs. N-grams - which is better?\n",
    "     - Try `TweetTokenizer()` - how does this differ from the tokenisers you are familiar with?\n",
    " - Consider which other models could do a better job (refer to course resources)\n",
    " - Consider some further feature engineering:\n",
    "     - What other attributes of the tweets may be useful?\n",
    "     - Should we perform feature selection given their size and sparseness of the vectorised tweets?\n",
    " - If you've mastered the above, try implementing hyperparameter tuning methods.\n",
    " - Compare all the models you try and remember to submit **the best one** based on test performance (f1-score using macro averaging). \n",
    " \n",
    "You may use the space below to try out these \"Extras\"."
   ]
  },
  {
   "cell_type": "markdown",
   "metadata": {},
   "source": [
    "## How/why is the model bad?\n",
    "\n",
    "Do you have any hypotheses as to how you can improve the model further? Use this space to investigate with mindful EDA if necessary."
   ]
  },
  {
   "cell_type": "markdown",
   "metadata": {},
   "source": [
    "Be sure to check whether each additional technique you apply actually improves your model performance."
   ]
  },
  {
   "cell_type": "markdown",
   "metadata": {},
   "source": [
    "## Submit your best model predictions \n",
    "\n",
    "Don't forget to submit your the predictions on the best model to Kaggle."
   ]
  },
  {
   "cell_type": "code",
   "execution_count": 479,
   "metadata": {},
   "outputs": [],
   "source": [
    "# write csv for best predictions\n",
    "test['message'] = test['message'].astype(str)\n",
    "\n",
    "y_test = model_svc.predict(test['message'])\n",
    "output = pd.DataFrame({'tweetid':test.tweetid,\n",
    "                      'sentiment':y_test})\n",
    "output.to_csv('submission.csv',index = False)\n"
   ]
  },
  {
   "cell_type": "code",
   "execution_count": 480,
   "metadata": {},
   "outputs": [
    {
     "data": {
      "text/html": [
       "<div>\n",
       "<style scoped>\n",
       "    .dataframe tbody tr th:only-of-type {\n",
       "        vertical-align: middle;\n",
       "    }\n",
       "\n",
       "    .dataframe tbody tr th {\n",
       "        vertical-align: top;\n",
       "    }\n",
       "\n",
       "    .dataframe thead th {\n",
       "        text-align: right;\n",
       "    }\n",
       "</style>\n",
       "<table border=\"1\" class=\"dataframe\">\n",
       "  <thead>\n",
       "    <tr style=\"text-align: right;\">\n",
       "      <th></th>\n",
       "      <th>tweetid</th>\n",
       "      <th>sentiment</th>\n",
       "    </tr>\n",
       "  </thead>\n",
       "  <tbody>\n",
       "    <tr>\n",
       "      <th>0</th>\n",
       "      <td>169760</td>\n",
       "      <td>1</td>\n",
       "    </tr>\n",
       "    <tr>\n",
       "      <th>1</th>\n",
       "      <td>35326</td>\n",
       "      <td>1</td>\n",
       "    </tr>\n",
       "    <tr>\n",
       "      <th>2</th>\n",
       "      <td>224985</td>\n",
       "      <td>1</td>\n",
       "    </tr>\n",
       "    <tr>\n",
       "      <th>3</th>\n",
       "      <td>476263</td>\n",
       "      <td>1</td>\n",
       "    </tr>\n",
       "    <tr>\n",
       "      <th>4</th>\n",
       "      <td>872928</td>\n",
       "      <td>0</td>\n",
       "    </tr>\n",
       "    <tr>\n",
       "      <th>...</th>\n",
       "      <td>...</td>\n",
       "      <td>...</td>\n",
       "    </tr>\n",
       "    <tr>\n",
       "      <th>10541</th>\n",
       "      <td>895714</td>\n",
       "      <td>1</td>\n",
       "    </tr>\n",
       "    <tr>\n",
       "      <th>10542</th>\n",
       "      <td>875167</td>\n",
       "      <td>1</td>\n",
       "    </tr>\n",
       "    <tr>\n",
       "      <th>10543</th>\n",
       "      <td>78329</td>\n",
       "      <td>2</td>\n",
       "    </tr>\n",
       "    <tr>\n",
       "      <th>10544</th>\n",
       "      <td>867455</td>\n",
       "      <td>0</td>\n",
       "    </tr>\n",
       "    <tr>\n",
       "      <th>10545</th>\n",
       "      <td>470892</td>\n",
       "      <td>1</td>\n",
       "    </tr>\n",
       "  </tbody>\n",
       "</table>\n",
       "<p>10546 rows × 2 columns</p>\n",
       "</div>"
      ],
      "text/plain": [
       "       tweetid  sentiment\n",
       "0       169760          1\n",
       "1        35326          1\n",
       "2       224985          1\n",
       "3       476263          1\n",
       "4       872928          0\n",
       "...        ...        ...\n",
       "10541   895714          1\n",
       "10542   875167          1\n",
       "10543    78329          2\n",
       "10544   867455          0\n",
       "10545   470892          1\n",
       "\n",
       "[10546 rows x 2 columns]"
      ]
     },
     "execution_count": 480,
     "metadata": {},
     "output_type": "execute_result"
    }
   ],
   "source": [
    "output"
   ]
  },
  {
   "cell_type": "code",
   "execution_count": null,
   "metadata": {},
   "outputs": [],
   "source": []
  }
 ],
 "metadata": {
  "hide_input": false,
  "kernelspec": {
   "display_name": "Python 3",
   "language": "python",
   "name": "python3"
  },
  "language_info": {
   "codemirror_mode": {
    "name": "ipython",
    "version": 3
   },
   "file_extension": ".py",
   "mimetype": "text/x-python",
   "name": "python",
   "nbconvert_exporter": "python",
   "pygments_lexer": "ipython3",
   "version": "3.8.8"
  }
 },
 "nbformat": 4,
 "nbformat_minor": 4
}
